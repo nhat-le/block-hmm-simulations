{
 "cells": [
  {
   "cell_type": "code",
   "execution_count": 1,
   "metadata": {},
   "outputs": [],
   "source": [
    "import numpy as np\n",
    "import matplotlib.pyplot as plt\n",
    "from src.worldModels import *\n",
    "import scipy.io\n",
    "import os.path\n",
    "import os\n",
    "from src.utils import *\n",
    "from src.run_simulations import *\n",
    "from src.decoding import *\n",
    "from src.agents import *\n",
    "import pickle\n",
    "from tqdm import tqdm\n",
    "import ipywidgets as widgets\n",
    "from ipywidgets import interact\n",
    "from IPython.display import display\n",
    "from sklearn.linear_model import LinearRegression\n",
    "from src.expfitting import *\n",
    "\n",
    "import warnings\n",
    "warnings.filterwarnings(\"ignore\", category=RuntimeWarning, module='utils')\n",
    "\n",
    "\n",
    "%matplotlib notebook\n",
    "%reload_ext autoreload\n",
    "%autoreload 2"
   ]
  },
  {
   "cell_type": "markdown",
   "metadata": {},
   "source": [
    "## Repeated simulations of Q-learning and inference-based behavior "
   ]
  },
  {
   "cell_type": "markdown",
   "metadata": {},
   "source": [
    "### Q-learning"
   ]
  },
  {
   "cell_type": "code",
   "execution_count": 2,
   "metadata": {
    "scrolled": true
   },
   "outputs": [
    {
     "name": "stdout",
     "output_type": "stream",
     "text": [
      "0.01 0.01\n",
      "0.01 0.035789473684210524\n"
     ]
    },
    {
     "name": "stderr",
     "output_type": "stream",
     "text": [
      "/Users/minhnhatle/Documents/block-hmm-simulations/src/utils.py:334: RuntimeWarning: overflow encountered in exp\n",
      "  return gamma + (1 - gamma - lamb) * 1 / (1 + np.exp(-p[0] * (x + p[1])))\n"
     ]
    },
    {
     "name": "stdout",
     "output_type": "stream",
     "text": [
      "0.01 0.06157894736842105\n",
      "0.01 0.08736842105263157\n",
      "0.01 0.1131578947368421\n",
      "0.01 0.13894736842105262\n"
     ]
    },
    {
     "name": "stderr",
     "output_type": "stream",
     "text": [
      "/Users/minhnhatle/Documents/block-hmm-simulations/src/utils.py:334: RuntimeWarning: overflow encountered in exp\n",
      "  return gamma + (1 - gamma - lamb) * 1 / (1 + np.exp(-p[0] * (x + p[1])))\n"
     ]
    },
    {
     "name": "stdout",
     "output_type": "stream",
     "text": [
      "0.01 0.16473684210526315\n"
     ]
    },
    {
     "name": "stderr",
     "output_type": "stream",
     "text": [
      "/Users/minhnhatle/Documents/block-hmm-simulations/src/utils.py:334: RuntimeWarning: overflow encountered in exp\n",
      "  return gamma + (1 - gamma - lamb) * 1 / (1 + np.exp(-p[0] * (x + p[1])))\n"
     ]
    },
    {
     "name": "stdout",
     "output_type": "stream",
     "text": [
      "0.01 0.19052631578947368\n"
     ]
    },
    {
     "name": "stderr",
     "output_type": "stream",
     "text": [
      "/Users/minhnhatle/Documents/block-hmm-simulations/src/utils.py:334: RuntimeWarning: overflow encountered in exp\n",
      "  return gamma + (1 - gamma - lamb) * 1 / (1 + np.exp(-p[0] * (x + p[1])))\n"
     ]
    },
    {
     "name": "stdout",
     "output_type": "stream",
     "text": [
      "0.01 0.2163157894736842\n",
      "0.01 0.24210526315789474\n"
     ]
    },
    {
     "name": "stderr",
     "output_type": "stream",
     "text": [
      "/Users/minhnhatle/Documents/block-hmm-simulations/src/utils.py:334: RuntimeWarning: overflow encountered in exp\n",
      "  return gamma + (1 - gamma - lamb) * 1 / (1 + np.exp(-p[0] * (x + p[1])))\n"
     ]
    },
    {
     "name": "stdout",
     "output_type": "stream",
     "text": [
      "0.01 0.26789473684210524\n"
     ]
    },
    {
     "name": "stderr",
     "output_type": "stream",
     "text": [
      "/Users/minhnhatle/Documents/block-hmm-simulations/src/utils.py:334: RuntimeWarning: overflow encountered in exp\n",
      "  return gamma + (1 - gamma - lamb) * 1 / (1 + np.exp(-p[0] * (x + p[1])))\n"
     ]
    },
    {
     "name": "stdout",
     "output_type": "stream",
     "text": [
      "0.01 0.29368421052631577\n",
      "0.01 0.3194736842105263\n"
     ]
    },
    {
     "name": "stderr",
     "output_type": "stream",
     "text": [
      "/Users/minhnhatle/Documents/block-hmm-simulations/src/utils.py:334: RuntimeWarning: overflow encountered in exp\n",
      "  return gamma + (1 - gamma - lamb) * 1 / (1 + np.exp(-p[0] * (x + p[1])))\n"
     ]
    },
    {
     "name": "stdout",
     "output_type": "stream",
     "text": [
      "0.01 0.3452631578947368\n"
     ]
    },
    {
     "name": "stderr",
     "output_type": "stream",
     "text": [
      "/Users/minhnhatle/Documents/block-hmm-simulations/src/utils.py:334: RuntimeWarning: overflow encountered in exp\n",
      "  return gamma + (1 - gamma - lamb) * 1 / (1 + np.exp(-p[0] * (x + p[1])))\n"
     ]
    },
    {
     "name": "stdout",
     "output_type": "stream",
     "text": [
      "0.01 0.37105263157894736\n"
     ]
    },
    {
     "name": "stderr",
     "output_type": "stream",
     "text": [
      "/Users/minhnhatle/Documents/block-hmm-simulations/src/utils.py:334: RuntimeWarning: overflow encountered in exp\n",
      "  return gamma + (1 - gamma - lamb) * 1 / (1 + np.exp(-p[0] * (x + p[1])))\n"
     ]
    },
    {
     "name": "stdout",
     "output_type": "stream",
     "text": [
      "0.01 0.3968421052631579\n"
     ]
    },
    {
     "name": "stderr",
     "output_type": "stream",
     "text": [
      "/Users/minhnhatle/Documents/block-hmm-simulations/src/utils.py:334: RuntimeWarning: overflow encountered in exp\n",
      "  return gamma + (1 - gamma - lamb) * 1 / (1 + np.exp(-p[0] * (x + p[1])))\n",
      "/Users/minhnhatle/Documents/block-hmm-simulations/src/utils.py:334: RuntimeWarning: overflow encountered in exp\n",
      "  return gamma + (1 - gamma - lamb) * 1 / (1 + np.exp(-p[0] * (x + p[1])))\n",
      "/Users/minhnhatle/Documents/block-hmm-simulations/src/utils.py:334: RuntimeWarning: overflow encountered in exp\n",
      "  return gamma + (1 - gamma - lamb) * 1 / (1 + np.exp(-p[0] * (x + p[1])))\n"
     ]
    },
    {
     "name": "stdout",
     "output_type": "stream",
     "text": [
      "0.01 0.4226315789473684\n",
      "0.01 0.44842105263157894\n"
     ]
    },
    {
     "name": "stderr",
     "output_type": "stream",
     "text": [
      "/Users/minhnhatle/Documents/block-hmm-simulations/src/utils.py:334: RuntimeWarning: overflow encountered in exp\n",
      "  return gamma + (1 - gamma - lamb) * 1 / (1 + np.exp(-p[0] * (x + p[1])))\n",
      "/Users/minhnhatle/Documents/block-hmm-simulations/src/utils.py:334: RuntimeWarning: overflow encountered in exp\n",
      "  return gamma + (1 - gamma - lamb) * 1 / (1 + np.exp(-p[0] * (x + p[1])))\n"
     ]
    },
    {
     "name": "stdout",
     "output_type": "stream",
     "text": [
      "0.01 0.47421052631578947\n"
     ]
    },
    {
     "name": "stderr",
     "output_type": "stream",
     "text": [
      "/Users/minhnhatle/Documents/block-hmm-simulations/src/utils.py:334: RuntimeWarning: overflow encountered in exp\n",
      "  return gamma + (1 - gamma - lamb) * 1 / (1 + np.exp(-p[0] * (x + p[1])))\n",
      "/Users/minhnhatle/Documents/block-hmm-simulations/src/utils.py:334: RuntimeWarning: overflow encountered in exp\n",
      "  return gamma + (1 - gamma - lamb) * 1 / (1 + np.exp(-p[0] * (x + p[1])))\n",
      "/Users/minhnhatle/Documents/block-hmm-simulations/src/utils.py:334: RuntimeWarning: overflow encountered in exp\n",
      "  return gamma + (1 - gamma - lamb) * 1 / (1 + np.exp(-p[0] * (x + p[1])))\n",
      "/Users/minhnhatle/Documents/block-hmm-simulations/src/utils.py:334: RuntimeWarning: overflow encountered in exp\n",
      "  return gamma + (1 - gamma - lamb) * 1 / (1 + np.exp(-p[0] * (x + p[1])))\n",
      "/Users/minhnhatle/Documents/block-hmm-simulations/src/utils.py:334: RuntimeWarning: overflow encountered in exp\n",
      "  return gamma + (1 - gamma - lamb) * 1 / (1 + np.exp(-p[0] * (x + p[1])))\n"
     ]
    },
    {
     "name": "stdout",
     "output_type": "stream",
     "text": [
      "0.01 0.5\n"
     ]
    },
    {
     "name": "stderr",
     "output_type": "stream",
     "text": [
      "/Users/minhnhatle/Documents/block-hmm-simulations/src/utils.py:334: RuntimeWarning: overflow encountered in exp\n",
      "  return gamma + (1 - gamma - lamb) * 1 / (1 + np.exp(-p[0] * (x + p[1])))\n",
      "/Users/minhnhatle/Documents/block-hmm-simulations/src/utils.py:334: RuntimeWarning: overflow encountered in exp\n",
      "  return gamma + (1 - gamma - lamb) * 1 / (1 + np.exp(-p[0] * (x + p[1])))\n",
      "/Users/minhnhatle/Documents/block-hmm-simulations/src/utils.py:334: RuntimeWarning: overflow encountered in exp\n",
      "  return gamma + (1 - gamma - lamb) * 1 / (1 + np.exp(-p[0] * (x + p[1])))\n"
     ]
    },
    {
     "name": "stdout",
     "output_type": "stream",
     "text": [
      "0.06791666666666667 0.01\n",
      "0.06791666666666667 0.035789473684210524\n",
      "0.06791666666666667 0.06157894736842105\n",
      "0.06791666666666667 0.08736842105263157\n",
      "0.06791666666666667 0.1131578947368421\n",
      "0.06791666666666667 0.13894736842105262\n",
      "0.06791666666666667 0.16473684210526315\n",
      "0.06791666666666667 0.19052631578947368\n",
      "0.06791666666666667 0.2163157894736842\n",
      "0.06791666666666667 0.24210526315789474\n",
      "0.06791666666666667 0.26789473684210524\n",
      "0.06791666666666667 0.29368421052631577\n",
      "0.06791666666666667 0.3194736842105263\n"
     ]
    },
    {
     "name": "stderr",
     "output_type": "stream",
     "text": [
      "/Users/minhnhatle/Documents/block-hmm-simulations/src/utils.py:334: RuntimeWarning: overflow encountered in exp\n",
      "  return gamma + (1 - gamma - lamb) * 1 / (1 + np.exp(-p[0] * (x + p[1])))\n"
     ]
    },
    {
     "name": "stdout",
     "output_type": "stream",
     "text": [
      "0.06791666666666667 0.3452631578947368\n"
     ]
    },
    {
     "name": "stderr",
     "output_type": "stream",
     "text": [
      "/Users/minhnhatle/Documents/block-hmm-simulations/src/utils.py:334: RuntimeWarning: overflow encountered in exp\n",
      "  return gamma + (1 - gamma - lamb) * 1 / (1 + np.exp(-p[0] * (x + p[1])))\n"
     ]
    },
    {
     "name": "stdout",
     "output_type": "stream",
     "text": [
      "0.06791666666666667 0.37105263157894736\n"
     ]
    },
    {
     "name": "stderr",
     "output_type": "stream",
     "text": [
      "/Users/minhnhatle/Documents/block-hmm-simulations/src/utils.py:334: RuntimeWarning: overflow encountered in exp\n",
      "  return gamma + (1 - gamma - lamb) * 1 / (1 + np.exp(-p[0] * (x + p[1])))\n"
     ]
    },
    {
     "name": "stdout",
     "output_type": "stream",
     "text": [
      "0.06791666666666667 0.3968421052631579\n",
      "0.06791666666666667 0.4226315789473684\n"
     ]
    },
    {
     "name": "stderr",
     "output_type": "stream",
     "text": [
      "/Users/minhnhatle/Documents/block-hmm-simulations/src/utils.py:334: RuntimeWarning: overflow encountered in exp\n",
      "  return gamma + (1 - gamma - lamb) * 1 / (1 + np.exp(-p[0] * (x + p[1])))\n",
      "/Users/minhnhatle/Documents/block-hmm-simulations/src/utils.py:334: RuntimeWarning: overflow encountered in exp\n",
      "  return gamma + (1 - gamma - lamb) * 1 / (1 + np.exp(-p[0] * (x + p[1])))\n"
     ]
    },
    {
     "name": "stdout",
     "output_type": "stream",
     "text": [
      "0.06791666666666667 0.44842105263157894\n"
     ]
    },
    {
     "name": "stderr",
     "output_type": "stream",
     "text": [
      "/Users/minhnhatle/Documents/block-hmm-simulations/src/utils.py:334: RuntimeWarning: overflow encountered in exp\n",
      "  return gamma + (1 - gamma - lamb) * 1 / (1 + np.exp(-p[0] * (x + p[1])))\n",
      "/Users/minhnhatle/Documents/block-hmm-simulations/src/utils.py:334: RuntimeWarning: overflow encountered in exp\n",
      "  return gamma + (1 - gamma - lamb) * 1 / (1 + np.exp(-p[0] * (x + p[1])))\n",
      "/Users/minhnhatle/Documents/block-hmm-simulations/src/utils.py:334: RuntimeWarning: overflow encountered in exp\n",
      "  return gamma + (1 - gamma - lamb) * 1 / (1 + np.exp(-p[0] * (x + p[1])))\n",
      "/Users/minhnhatle/Documents/block-hmm-simulations/src/utils.py:334: RuntimeWarning: overflow encountered in exp\n",
      "  return gamma + (1 - gamma - lamb) * 1 / (1 + np.exp(-p[0] * (x + p[1])))\n"
     ]
    },
    {
     "name": "stdout",
     "output_type": "stream",
     "text": [
      "0.06791666666666667 0.47421052631578947\n"
     ]
    },
    {
     "name": "stderr",
     "output_type": "stream",
     "text": [
      "/Users/minhnhatle/Documents/block-hmm-simulations/src/utils.py:334: RuntimeWarning: overflow encountered in exp\n",
      "  return gamma + (1 - gamma - lamb) * 1 / (1 + np.exp(-p[0] * (x + p[1])))\n"
     ]
    },
    {
     "name": "stdout",
     "output_type": "stream",
     "text": [
      "0.06791666666666667 0.5\n"
     ]
    },
    {
     "name": "stderr",
     "output_type": "stream",
     "text": [
      "/Users/minhnhatle/Documents/block-hmm-simulations/src/utils.py:334: RuntimeWarning: overflow encountered in exp\n",
      "  return gamma + (1 - gamma - lamb) * 1 / (1 + np.exp(-p[0] * (x + p[1])))\n",
      "/Users/minhnhatle/Documents/block-hmm-simulations/src/utils.py:334: RuntimeWarning: overflow encountered in exp\n",
      "  return gamma + (1 - gamma - lamb) * 1 / (1 + np.exp(-p[0] * (x + p[1])))\n",
      "/Users/minhnhatle/Documents/block-hmm-simulations/src/utils.py:334: RuntimeWarning: overflow encountered in exp\n",
      "  return gamma + (1 - gamma - lamb) * 1 / (1 + np.exp(-p[0] * (x + p[1])))\n"
     ]
    },
    {
     "name": "stdout",
     "output_type": "stream",
     "text": [
      "0.12583333333333332 0.01\n",
      "0.12583333333333332 0.035789473684210524\n",
      "0.12583333333333332 0.06157894736842105\n",
      "0.12583333333333332 0.08736842105263157\n",
      "0.12583333333333332 0.1131578947368421\n",
      "0.12583333333333332 0.13894736842105262\n",
      "0.12583333333333332 0.16473684210526315\n",
      "0.12583333333333332 0.19052631578947368\n",
      "0.12583333333333332 0.2163157894736842\n",
      "0.12583333333333332 0.24210526315789474\n",
      "0.12583333333333332 0.26789473684210524\n",
      "0.12583333333333332 0.29368421052631577\n"
     ]
    },
    {
     "name": "stderr",
     "output_type": "stream",
     "text": [
      "/Users/minhnhatle/Documents/block-hmm-simulations/src/utils.py:334: RuntimeWarning: overflow encountered in exp\n",
      "  return gamma + (1 - gamma - lamb) * 1 / (1 + np.exp(-p[0] * (x + p[1])))\n"
     ]
    },
    {
     "name": "stdout",
     "output_type": "stream",
     "text": [
      "0.12583333333333332 0.3194736842105263\n",
      "0.12583333333333332 0.3452631578947368\n",
      "0.12583333333333332 0.37105263157894736\n",
      "0.12583333333333332 0.3968421052631579\n",
      "0.12583333333333332 0.4226315789473684\n"
     ]
    },
    {
     "name": "stderr",
     "output_type": "stream",
     "text": [
      "/Users/minhnhatle/Documents/block-hmm-simulations/src/utils.py:334: RuntimeWarning: overflow encountered in exp\n",
      "  return gamma + (1 - gamma - lamb) * 1 / (1 + np.exp(-p[0] * (x + p[1])))\n"
     ]
    },
    {
     "name": "stdout",
     "output_type": "stream",
     "text": [
      "0.12583333333333332 0.44842105263157894\n",
      "0.12583333333333332 0.47421052631578947\n",
      "0.12583333333333332 0.5\n"
     ]
    },
    {
     "name": "stderr",
     "output_type": "stream",
     "text": [
      "/Users/minhnhatle/Documents/block-hmm-simulations/src/utils.py:334: RuntimeWarning: overflow encountered in exp\n",
      "  return gamma + (1 - gamma - lamb) * 1 / (1 + np.exp(-p[0] * (x + p[1])))\n"
     ]
    },
    {
     "name": "stdout",
     "output_type": "stream",
     "text": [
      "0.18375 0.01\n",
      "0.18375 0.035789473684210524\n",
      "0.18375 0.06157894736842105\n",
      "0.18375 0.08736842105263157\n",
      "0.18375 0.1131578947368421\n",
      "0.18375 0.13894736842105262\n",
      "0.18375 0.16473684210526315\n",
      "0.18375 0.19052631578947368\n",
      "0.18375 0.2163157894736842\n",
      "0.18375 0.24210526315789474\n",
      "0.18375 0.26789473684210524\n",
      "0.18375 0.29368421052631577\n",
      "0.18375 0.3194736842105263\n",
      "0.18375 0.3452631578947368\n",
      "0.18375 0.37105263157894736\n",
      "0.18375 0.3968421052631579\n",
      "0.18375 0.4226315789473684\n"
     ]
    },
    {
     "name": "stderr",
     "output_type": "stream",
     "text": [
      "/Users/minhnhatle/Documents/block-hmm-simulations/src/utils.py:334: RuntimeWarning: overflow encountered in exp\n",
      "  return gamma + (1 - gamma - lamb) * 1 / (1 + np.exp(-p[0] * (x + p[1])))\n"
     ]
    },
    {
     "name": "stdout",
     "output_type": "stream",
     "text": [
      "0.18375 0.44842105263157894\n",
      "0.18375 0.47421052631578947\n"
     ]
    },
    {
     "name": "stderr",
     "output_type": "stream",
     "text": [
      "/Users/minhnhatle/Documents/block-hmm-simulations/src/utils.py:334: RuntimeWarning: overflow encountered in exp\n",
      "  return gamma + (1 - gamma - lamb) * 1 / (1 + np.exp(-p[0] * (x + p[1])))\n"
     ]
    },
    {
     "name": "stdout",
     "output_type": "stream",
     "text": [
      "0.18375 0.5\n"
     ]
    },
    {
     "name": "stderr",
     "output_type": "stream",
     "text": [
      "/Users/minhnhatle/Documents/block-hmm-simulations/src/utils.py:334: RuntimeWarning: overflow encountered in exp\n",
      "  return gamma + (1 - gamma - lamb) * 1 / (1 + np.exp(-p[0] * (x + p[1])))\n"
     ]
    },
    {
     "name": "stdout",
     "output_type": "stream",
     "text": [
      "0.24166666666666667 0.01\n",
      "0.24166666666666667 0.035789473684210524\n",
      "0.24166666666666667 0.06157894736842105\n",
      "0.24166666666666667 0.08736842105263157\n",
      "0.24166666666666667 0.1131578947368421\n",
      "0.24166666666666667 0.13894736842105262\n",
      "0.24166666666666667 0.16473684210526315\n",
      "0.24166666666666667 0.19052631578947368\n",
      "0.24166666666666667 0.2163157894736842\n",
      "0.24166666666666667 0.24210526315789474\n",
      "0.24166666666666667 0.26789473684210524\n",
      "0.24166666666666667 0.29368421052631577\n",
      "0.24166666666666667 0.3194736842105263\n",
      "0.24166666666666667 0.3452631578947368\n",
      "0.24166666666666667 0.37105263157894736\n",
      "0.24166666666666667 0.3968421052631579\n"
     ]
    },
    {
     "name": "stderr",
     "output_type": "stream",
     "text": [
      "/Users/minhnhatle/Documents/block-hmm-simulations/src/utils.py:334: RuntimeWarning: overflow encountered in exp\n",
      "  return gamma + (1 - gamma - lamb) * 1 / (1 + np.exp(-p[0] * (x + p[1])))\n"
     ]
    },
    {
     "name": "stdout",
     "output_type": "stream",
     "text": [
      "0.24166666666666667 0.4226315789473684\n",
      "0.24166666666666667 0.44842105263157894\n"
     ]
    },
    {
     "name": "stderr",
     "output_type": "stream",
     "text": [
      "/Users/minhnhatle/Documents/block-hmm-simulations/src/utils.py:334: RuntimeWarning: overflow encountered in exp\n",
      "  return gamma + (1 - gamma - lamb) * 1 / (1 + np.exp(-p[0] * (x + p[1])))\n",
      "/Users/minhnhatle/Documents/block-hmm-simulations/src/utils.py:334: RuntimeWarning: overflow encountered in exp\n",
      "  return gamma + (1 - gamma - lamb) * 1 / (1 + np.exp(-p[0] * (x + p[1])))\n"
     ]
    },
    {
     "name": "stdout",
     "output_type": "stream",
     "text": [
      "0.24166666666666667 0.47421052631578947\n",
      "0.24166666666666667 0.5\n"
     ]
    },
    {
     "name": "stderr",
     "output_type": "stream",
     "text": [
      "/Users/minhnhatle/Documents/block-hmm-simulations/src/utils.py:334: RuntimeWarning: overflow encountered in exp\n",
      "  return gamma + (1 - gamma - lamb) * 1 / (1 + np.exp(-p[0] * (x + p[1])))\n"
     ]
    },
    {
     "name": "stdout",
     "output_type": "stream",
     "text": [
      "0.2995833333333333 0.01\n",
      "0.2995833333333333 0.035789473684210524\n",
      "0.2995833333333333 0.06157894736842105\n",
      "0.2995833333333333 0.08736842105263157\n",
      "0.2995833333333333 0.1131578947368421\n",
      "0.2995833333333333 0.13894736842105262\n",
      "0.2995833333333333 0.16473684210526315\n",
      "0.2995833333333333 0.19052631578947368\n",
      "0.2995833333333333 0.2163157894736842\n",
      "0.2995833333333333 0.24210526315789474\n",
      "0.2995833333333333 0.26789473684210524\n",
      "0.2995833333333333 0.29368421052631577\n",
      "0.2995833333333333 0.3194736842105263\n",
      "0.2995833333333333 0.3452631578947368\n",
      "0.2995833333333333 0.37105263157894736\n",
      "0.2995833333333333 0.3968421052631579\n",
      "0.2995833333333333 0.4226315789473684\n",
      "0.2995833333333333 0.44842105263157894\n",
      "0.2995833333333333 0.47421052631578947\n",
      "0.2995833333333333 0.5\n",
      "0.3575 0.01\n",
      "0.3575 0.035789473684210524\n",
      "0.3575 0.06157894736842105\n",
      "0.3575 0.08736842105263157\n",
      "0.3575 0.1131578947368421\n",
      "0.3575 0.13894736842105262\n",
      "0.3575 0.16473684210526315\n",
      "0.3575 0.19052631578947368\n",
      "0.3575 0.2163157894736842\n",
      "0.3575 0.24210526315789474\n",
      "0.3575 0.26789473684210524\n",
      "0.3575 0.29368421052631577\n",
      "0.3575 0.3194736842105263\n",
      "0.3575 0.3452631578947368\n",
      "0.3575 0.37105263157894736\n",
      "0.3575 0.3968421052631579\n"
     ]
    },
    {
     "name": "stderr",
     "output_type": "stream",
     "text": [
      "/Users/minhnhatle/Documents/block-hmm-simulations/src/utils.py:334: RuntimeWarning: overflow encountered in exp\n",
      "  return gamma + (1 - gamma - lamb) * 1 / (1 + np.exp(-p[0] * (x + p[1])))\n"
     ]
    },
    {
     "name": "stdout",
     "output_type": "stream",
     "text": [
      "0.3575 0.4226315789473684\n",
      "0.3575 0.44842105263157894\n",
      "0.3575 0.47421052631578947\n"
     ]
    },
    {
     "name": "stderr",
     "output_type": "stream",
     "text": [
      "/Users/minhnhatle/Documents/block-hmm-simulations/src/utils.py:334: RuntimeWarning: overflow encountered in exp\n",
      "  return gamma + (1 - gamma - lamb) * 1 / (1 + np.exp(-p[0] * (x + p[1])))\n"
     ]
    },
    {
     "name": "stdout",
     "output_type": "stream",
     "text": [
      "0.3575 0.5\n",
      "0.41541666666666666 0.01\n",
      "0.41541666666666666 0.035789473684210524\n",
      "0.41541666666666666 0.06157894736842105\n",
      "0.41541666666666666 0.08736842105263157\n",
      "0.41541666666666666 0.1131578947368421\n",
      "0.41541666666666666 0.13894736842105262\n",
      "0.41541666666666666 0.16473684210526315\n",
      "0.41541666666666666 0.19052631578947368\n",
      "0.41541666666666666 0.2163157894736842\n",
      "0.41541666666666666 0.24210526315789474\n",
      "0.41541666666666666 0.26789473684210524\n",
      "0.41541666666666666 0.29368421052631577\n",
      "0.41541666666666666 0.3194736842105263\n",
      "0.41541666666666666 0.3452631578947368\n",
      "0.41541666666666666 0.37105263157894736\n",
      "0.41541666666666666 0.3968421052631579\n",
      "0.41541666666666666 0.4226315789473684\n",
      "0.41541666666666666 0.44842105263157894\n",
      "0.41541666666666666 0.47421052631578947\n",
      "0.41541666666666666 0.5\n"
     ]
    },
    {
     "name": "stderr",
     "output_type": "stream",
     "text": [
      "/Users/minhnhatle/Documents/block-hmm-simulations/src/utils.py:334: RuntimeWarning: overflow encountered in exp\n",
      "  return gamma + (1 - gamma - lamb) * 1 / (1 + np.exp(-p[0] * (x + p[1])))\n"
     ]
    },
    {
     "name": "stdout",
     "output_type": "stream",
     "text": [
      "0.47333333333333333 0.01\n",
      "0.47333333333333333 0.035789473684210524\n",
      "0.47333333333333333 0.06157894736842105\n",
      "0.47333333333333333 0.08736842105263157\n",
      "0.47333333333333333 0.1131578947368421\n",
      "0.47333333333333333 0.13894736842105262\n",
      "0.47333333333333333 0.16473684210526315\n",
      "0.47333333333333333 0.19052631578947368\n",
      "0.47333333333333333 0.2163157894736842\n",
      "0.47333333333333333 0.24210526315789474\n",
      "0.47333333333333333 0.26789473684210524\n",
      "0.47333333333333333 0.29368421052631577\n",
      "0.47333333333333333 0.3194736842105263\n",
      "0.47333333333333333 0.3452631578947368\n",
      "0.47333333333333333 0.37105263157894736\n",
      "0.47333333333333333 0.3968421052631579\n",
      "0.47333333333333333 0.4226315789473684\n",
      "0.47333333333333333 0.44842105263157894\n",
      "0.47333333333333333 0.47421052631578947\n",
      "0.47333333333333333 0.5\n"
     ]
    },
    {
     "name": "stderr",
     "output_type": "stream",
     "text": [
      "/Users/minhnhatle/Documents/block-hmm-simulations/src/utils.py:334: RuntimeWarning: overflow encountered in exp\n",
      "  return gamma + (1 - gamma - lamb) * 1 / (1 + np.exp(-p[0] * (x + p[1])))\n"
     ]
    },
    {
     "name": "stdout",
     "output_type": "stream",
     "text": [
      "0.53125 0.01\n",
      "0.53125 0.035789473684210524\n",
      "0.53125 0.06157894736842105\n",
      "0.53125 0.08736842105263157\n",
      "0.53125 0.1131578947368421\n",
      "0.53125 0.13894736842105262\n",
      "0.53125 0.16473684210526315\n",
      "0.53125 0.19052631578947368\n",
      "0.53125 0.2163157894736842\n",
      "0.53125 0.24210526315789474\n",
      "0.53125 0.26789473684210524\n",
      "0.53125 0.29368421052631577\n",
      "0.53125 0.3194736842105263\n",
      "0.53125 0.3452631578947368\n",
      "0.53125 0.37105263157894736\n",
      "0.53125 0.3968421052631579\n",
      "0.53125 0.4226315789473684\n",
      "0.53125 0.44842105263157894\n",
      "0.53125 0.47421052631578947\n",
      "0.53125 0.5\n"
     ]
    },
    {
     "name": "stderr",
     "output_type": "stream",
     "text": [
      "/Users/minhnhatle/Documents/block-hmm-simulations/src/utils.py:334: RuntimeWarning: overflow encountered in exp\n",
      "  return gamma + (1 - gamma - lamb) * 1 / (1 + np.exp(-p[0] * (x + p[1])))\n"
     ]
    },
    {
     "name": "stdout",
     "output_type": "stream",
     "text": [
      "0.5891666666666666 0.01\n",
      "0.5891666666666666 0.035789473684210524\n",
      "0.5891666666666666 0.06157894736842105\n",
      "0.5891666666666666 0.08736842105263157\n",
      "0.5891666666666666 0.1131578947368421\n",
      "0.5891666666666666 0.13894736842105262\n",
      "0.5891666666666666 0.16473684210526315\n",
      "0.5891666666666666 0.19052631578947368\n",
      "0.5891666666666666 0.2163157894736842\n",
      "0.5891666666666666 0.24210526315789474\n",
      "0.5891666666666666 0.26789473684210524\n",
      "0.5891666666666666 0.29368421052631577\n",
      "0.5891666666666666 0.3194736842105263\n",
      "0.5891666666666666 0.3452631578947368\n",
      "0.5891666666666666 0.37105263157894736\n",
      "0.5891666666666666 0.3968421052631579\n",
      "0.5891666666666666 0.4226315789473684\n",
      "0.5891666666666666 0.44842105263157894\n",
      "0.5891666666666666 0.47421052631578947\n",
      "0.5891666666666666 0.5\n"
     ]
    },
    {
     "name": "stderr",
     "output_type": "stream",
     "text": [
      "/Users/minhnhatle/Documents/block-hmm-simulations/src/utils.py:334: RuntimeWarning: overflow encountered in exp\n",
      "  return gamma + (1 - gamma - lamb) * 1 / (1 + np.exp(-p[0] * (x + p[1])))\n"
     ]
    },
    {
     "name": "stdout",
     "output_type": "stream",
     "text": [
      "0.6470833333333333 0.01\n",
      "0.6470833333333333 0.035789473684210524\n",
      "0.6470833333333333 0.06157894736842105\n",
      "0.6470833333333333 0.08736842105263157\n",
      "0.6470833333333333 0.1131578947368421\n",
      "0.6470833333333333 0.13894736842105262\n",
      "0.6470833333333333 0.16473684210526315\n",
      "0.6470833333333333 0.19052631578947368\n",
      "0.6470833333333333 0.2163157894736842\n",
      "0.6470833333333333 0.24210526315789474\n",
      "0.6470833333333333 0.26789473684210524\n",
      "0.6470833333333333 0.29368421052631577\n",
      "0.6470833333333333 0.3194736842105263\n",
      "0.6470833333333333 0.3452631578947368\n",
      "0.6470833333333333 0.37105263157894736\n",
      "0.6470833333333333 0.3968421052631579\n",
      "0.6470833333333333 0.4226315789473684\n",
      "0.6470833333333333 0.44842105263157894\n",
      "0.6470833333333333 0.47421052631578947\n",
      "0.6470833333333333 0.5\n"
     ]
    },
    {
     "name": "stderr",
     "output_type": "stream",
     "text": [
      "/Users/minhnhatle/Documents/block-hmm-simulations/src/utils.py:334: RuntimeWarning: overflow encountered in exp\n",
      "  return gamma + (1 - gamma - lamb) * 1 / (1 + np.exp(-p[0] * (x + p[1])))\n"
     ]
    },
    {
     "name": "stdout",
     "output_type": "stream",
     "text": [
      "0.705 0.01\n",
      "0.705 0.035789473684210524\n",
      "0.705 0.06157894736842105\n",
      "0.705 0.08736842105263157\n",
      "0.705 0.1131578947368421\n",
      "0.705 0.13894736842105262\n",
      "0.705 0.16473684210526315\n",
      "0.705 0.19052631578947368\n",
      "0.705 0.2163157894736842\n",
      "0.705 0.24210526315789474\n",
      "0.705 0.26789473684210524\n",
      "0.705 0.29368421052631577\n",
      "0.705 0.3194736842105263\n",
      "0.705 0.3452631578947368\n",
      "0.705 0.37105263157894736\n",
      "0.705 0.3968421052631579\n",
      "0.705 0.4226315789473684\n",
      "0.705 0.44842105263157894\n",
      "0.705 0.47421052631578947\n",
      "0.705 0.5\n"
     ]
    },
    {
     "name": "stderr",
     "output_type": "stream",
     "text": [
      "/Users/minhnhatle/Documents/block-hmm-simulations/src/utils.py:334: RuntimeWarning: overflow encountered in exp\n",
      "  return gamma + (1 - gamma - lamb) * 1 / (1 + np.exp(-p[0] * (x + p[1])))\n"
     ]
    },
    {
     "name": "stdout",
     "output_type": "stream",
     "text": [
      "0.7629166666666667 0.01\n",
      "0.7629166666666667 0.035789473684210524\n",
      "0.7629166666666667 0.06157894736842105\n",
      "0.7629166666666667 0.08736842105263157\n",
      "0.7629166666666667 0.1131578947368421\n",
      "0.7629166666666667 0.13894736842105262\n",
      "0.7629166666666667 0.16473684210526315\n",
      "0.7629166666666667 0.19052631578947368\n",
      "0.7629166666666667 0.2163157894736842\n",
      "0.7629166666666667 0.24210526315789474\n",
      "0.7629166666666667 0.26789473684210524\n",
      "0.7629166666666667 0.29368421052631577\n",
      "0.7629166666666667 0.3194736842105263\n",
      "0.7629166666666667 0.3452631578947368\n",
      "0.7629166666666667 0.37105263157894736\n",
      "0.7629166666666667 0.3968421052631579\n",
      "0.7629166666666667 0.4226315789473684\n",
      "0.7629166666666667 0.44842105263157894\n",
      "0.7629166666666667 0.47421052631578947\n",
      "0.7629166666666667 0.5\n"
     ]
    },
    {
     "name": "stderr",
     "output_type": "stream",
     "text": [
      "/Users/minhnhatle/Documents/block-hmm-simulations/src/utils.py:334: RuntimeWarning: overflow encountered in exp\n",
      "  return gamma + (1 - gamma - lamb) * 1 / (1 + np.exp(-p[0] * (x + p[1])))\n"
     ]
    },
    {
     "name": "stdout",
     "output_type": "stream",
     "text": [
      "0.8208333333333333 0.01\n",
      "0.8208333333333333 0.035789473684210524\n",
      "0.8208333333333333 0.06157894736842105\n",
      "0.8208333333333333 0.08736842105263157\n",
      "0.8208333333333333 0.1131578947368421\n",
      "0.8208333333333333 0.13894736842105262\n",
      "0.8208333333333333 0.16473684210526315\n",
      "0.8208333333333333 0.19052631578947368\n",
      "0.8208333333333333 0.2163157894736842\n",
      "0.8208333333333333 0.24210526315789474\n",
      "0.8208333333333333 0.26789473684210524\n",
      "0.8208333333333333 0.29368421052631577\n",
      "0.8208333333333333 0.3194736842105263\n",
      "0.8208333333333333 0.3452631578947368\n",
      "0.8208333333333333 0.37105263157894736\n",
      "0.8208333333333333 0.3968421052631579\n",
      "0.8208333333333333 0.4226315789473684\n",
      "0.8208333333333333 0.44842105263157894\n",
      "0.8208333333333333 0.47421052631578947\n",
      "0.8208333333333333 0.5\n"
     ]
    },
    {
     "name": "stderr",
     "output_type": "stream",
     "text": [
      "/Users/minhnhatle/Documents/block-hmm-simulations/src/utils.py:334: RuntimeWarning: overflow encountered in exp\n",
      "  return gamma + (1 - gamma - lamb) * 1 / (1 + np.exp(-p[0] * (x + p[1])))\n"
     ]
    },
    {
     "name": "stdout",
     "output_type": "stream",
     "text": [
      "0.87875 0.01\n",
      "0.87875 0.035789473684210524\n",
      "0.87875 0.06157894736842105\n",
      "0.87875 0.08736842105263157\n",
      "0.87875 0.1131578947368421\n",
      "0.87875 0.13894736842105262\n",
      "0.87875 0.16473684210526315\n",
      "0.87875 0.19052631578947368\n",
      "0.87875 0.2163157894736842\n",
      "0.87875 0.24210526315789474\n",
      "0.87875 0.26789473684210524\n",
      "0.87875 0.29368421052631577\n",
      "0.87875 0.3194736842105263\n",
      "0.87875 0.3452631578947368\n",
      "0.87875 0.37105263157894736\n",
      "0.87875 0.3968421052631579\n",
      "0.87875 0.4226315789473684\n",
      "0.87875 0.44842105263157894\n",
      "0.87875 0.47421052631578947\n",
      "0.87875 0.5\n"
     ]
    },
    {
     "name": "stderr",
     "output_type": "stream",
     "text": [
      "/Users/minhnhatle/Documents/block-hmm-simulations/src/utils.py:334: RuntimeWarning: overflow encountered in exp\n",
      "  return gamma + (1 - gamma - lamb) * 1 / (1 + np.exp(-p[0] * (x + p[1])))\n"
     ]
    },
    {
     "name": "stdout",
     "output_type": "stream",
     "text": [
      "0.9366666666666666 0.01\n",
      "0.9366666666666666 0.035789473684210524\n",
      "0.9366666666666666 0.06157894736842105\n",
      "0.9366666666666666 0.08736842105263157\n",
      "0.9366666666666666 0.1131578947368421\n",
      "0.9366666666666666 0.13894736842105262\n",
      "0.9366666666666666 0.16473684210526315\n",
      "0.9366666666666666 0.19052631578947368\n",
      "0.9366666666666666 0.2163157894736842\n",
      "0.9366666666666666 0.24210526315789474\n",
      "0.9366666666666666 0.26789473684210524\n",
      "0.9366666666666666 0.29368421052631577\n",
      "0.9366666666666666 0.3194736842105263\n",
      "0.9366666666666666 0.3452631578947368\n",
      "0.9366666666666666 0.37105263157894736\n",
      "0.9366666666666666 0.3968421052631579\n",
      "0.9366666666666666 0.4226315789473684\n",
      "0.9366666666666666 0.44842105263157894\n",
      "0.9366666666666666 0.47421052631578947\n",
      "0.9366666666666666 0.5\n",
      "0.9945833333333333 0.01\n",
      "0.9945833333333333 0.035789473684210524\n",
      "0.9945833333333333 0.06157894736842105\n",
      "0.9945833333333333 0.08736842105263157\n",
      "0.9945833333333333 0.1131578947368421\n",
      "0.9945833333333333 0.13894736842105262\n",
      "0.9945833333333333 0.16473684210526315\n",
      "0.9945833333333333 0.19052631578947368\n",
      "0.9945833333333333 0.2163157894736842\n",
      "0.9945833333333333 0.24210526315789474\n",
      "0.9945833333333333 0.26789473684210524\n",
      "0.9945833333333333 0.29368421052631577\n",
      "0.9945833333333333 0.3194736842105263\n",
      "0.9945833333333333 0.3452631578947368\n",
      "0.9945833333333333 0.37105263157894736\n",
      "0.9945833333333333 0.3968421052631579\n",
      "0.9945833333333333 0.4226315789473684\n",
      "0.9945833333333333 0.44842105263157894\n",
      "0.9945833333333333 0.47421052631578947\n",
      "0.9945833333333333 0.5\n",
      "1.0525 0.01\n",
      "1.0525 0.035789473684210524\n"
     ]
    },
    {
     "name": "stderr",
     "output_type": "stream",
     "text": [
      "/Users/minhnhatle/Documents/block-hmm-simulations/src/utils.py:334: RuntimeWarning: overflow encountered in exp\n",
      "  return gamma + (1 - gamma - lamb) * 1 / (1 + np.exp(-p[0] * (x + p[1])))\n"
     ]
    },
    {
     "name": "stdout",
     "output_type": "stream",
     "text": [
      "1.0525 0.06157894736842105\n",
      "1.0525 0.08736842105263157\n",
      "1.0525 0.1131578947368421\n",
      "1.0525 0.13894736842105262\n",
      "1.0525 0.16473684210526315\n",
      "1.0525 0.19052631578947368\n",
      "1.0525 0.2163157894736842\n",
      "1.0525 0.24210526315789474\n",
      "1.0525 0.26789473684210524\n",
      "1.0525 0.29368421052631577\n",
      "1.0525 0.3194736842105263\n",
      "1.0525 0.3452631578947368\n",
      "1.0525 0.37105263157894736\n",
      "1.0525 0.3968421052631579\n",
      "1.0525 0.4226315789473684\n",
      "1.0525 0.44842105263157894\n",
      "1.0525 0.47421052631578947\n",
      "1.0525 0.5\n",
      "1.1104166666666666 0.01\n"
     ]
    },
    {
     "name": "stderr",
     "output_type": "stream",
     "text": [
      "/Users/minhnhatle/Documents/block-hmm-simulations/src/utils.py:334: RuntimeWarning: overflow encountered in exp\n",
      "  return gamma + (1 - gamma - lamb) * 1 / (1 + np.exp(-p[0] * (x + p[1])))\n"
     ]
    },
    {
     "name": "stdout",
     "output_type": "stream",
     "text": [
      "1.1104166666666666 0.035789473684210524\n"
     ]
    },
    {
     "name": "stderr",
     "output_type": "stream",
     "text": [
      "/Users/minhnhatle/Documents/block-hmm-simulations/src/utils.py:334: RuntimeWarning: overflow encountered in exp\n",
      "  return gamma + (1 - gamma - lamb) * 1 / (1 + np.exp(-p[0] * (x + p[1])))\n"
     ]
    },
    {
     "name": "stdout",
     "output_type": "stream",
     "text": [
      "1.1104166666666666 0.06157894736842105\n",
      "1.1104166666666666 0.08736842105263157\n",
      "1.1104166666666666 0.1131578947368421\n"
     ]
    },
    {
     "name": "stderr",
     "output_type": "stream",
     "text": [
      "/Users/minhnhatle/Documents/block-hmm-simulations/src/utils.py:334: RuntimeWarning: overflow encountered in exp\n",
      "  return gamma + (1 - gamma - lamb) * 1 / (1 + np.exp(-p[0] * (x + p[1])))\n"
     ]
    },
    {
     "name": "stdout",
     "output_type": "stream",
     "text": [
      "1.1104166666666666 0.13894736842105262\n",
      "1.1104166666666666 0.16473684210526315\n",
      "1.1104166666666666 0.19052631578947368\n",
      "1.1104166666666666 0.2163157894736842\n",
      "1.1104166666666666 0.24210526315789474\n",
      "1.1104166666666666 0.26789473684210524\n",
      "1.1104166666666666 0.29368421052631577\n",
      "1.1104166666666666 0.3194736842105263\n",
      "1.1104166666666666 0.3452631578947368\n",
      "1.1104166666666666 0.37105263157894736\n",
      "1.1104166666666666 0.3968421052631579\n",
      "1.1104166666666666 0.4226315789473684\n",
      "1.1104166666666666 0.44842105263157894\n",
      "1.1104166666666666 0.47421052631578947\n",
      "1.1104166666666666 0.5\n",
      "1.1683333333333332 0.01\n"
     ]
    },
    {
     "name": "stderr",
     "output_type": "stream",
     "text": [
      "/Users/minhnhatle/Documents/block-hmm-simulations/src/utils.py:334: RuntimeWarning: overflow encountered in exp\n",
      "  return gamma + (1 - gamma - lamb) * 1 / (1 + np.exp(-p[0] * (x + p[1])))\n"
     ]
    },
    {
     "name": "stdout",
     "output_type": "stream",
     "text": [
      "1.1683333333333332 0.035789473684210524\n",
      "1.1683333333333332 0.06157894736842105\n",
      "1.1683333333333332 0.08736842105263157\n",
      "1.1683333333333332 0.1131578947368421\n"
     ]
    },
    {
     "name": "stderr",
     "output_type": "stream",
     "text": [
      "/Users/minhnhatle/Documents/block-hmm-simulations/src/utils.py:334: RuntimeWarning: overflow encountered in exp\n",
      "  return gamma + (1 - gamma - lamb) * 1 / (1 + np.exp(-p[0] * (x + p[1])))\n"
     ]
    },
    {
     "name": "stdout",
     "output_type": "stream",
     "text": [
      "1.1683333333333332 0.13894736842105262\n",
      "1.1683333333333332 0.16473684210526315\n",
      "1.1683333333333332 0.19052631578947368\n",
      "1.1683333333333332 0.2163157894736842\n",
      "1.1683333333333332 0.24210526315789474\n",
      "1.1683333333333332 0.26789473684210524\n",
      "1.1683333333333332 0.29368421052631577\n",
      "1.1683333333333332 0.3194736842105263\n",
      "1.1683333333333332 0.3452631578947368\n",
      "1.1683333333333332 0.37105263157894736\n",
      "1.1683333333333332 0.3968421052631579\n",
      "1.1683333333333332 0.4226315789473684\n",
      "1.1683333333333332 0.44842105263157894\n",
      "1.1683333333333332 0.47421052631578947\n",
      "1.1683333333333332 0.5\n",
      "1.22625 0.01\n",
      "1.22625 0.035789473684210524\n"
     ]
    },
    {
     "name": "stderr",
     "output_type": "stream",
     "text": [
      "/Users/minhnhatle/Documents/block-hmm-simulations/src/utils.py:334: RuntimeWarning: overflow encountered in exp\n",
      "  return gamma + (1 - gamma - lamb) * 1 / (1 + np.exp(-p[0] * (x + p[1])))\n"
     ]
    },
    {
     "name": "stdout",
     "output_type": "stream",
     "text": [
      "1.22625 0.06157894736842105\n",
      "1.22625 0.08736842105263157\n",
      "1.22625 0.1131578947368421\n",
      "1.22625 0.13894736842105262\n",
      "1.22625 0.16473684210526315\n",
      "1.22625 0.19052631578947368\n",
      "1.22625 0.2163157894736842\n",
      "1.22625 0.24210526315789474\n",
      "1.22625 0.26789473684210524\n",
      "1.22625 0.29368421052631577\n",
      "1.22625 0.3194736842105263\n",
      "1.22625 0.3452631578947368\n",
      "1.22625 0.37105263157894736\n",
      "1.22625 0.3968421052631579\n",
      "1.22625 0.4226315789473684\n",
      "1.22625 0.44842105263157894\n",
      "1.22625 0.47421052631578947\n",
      "1.22625 0.5\n",
      "1.2841666666666667 0.01\n",
      "1.2841666666666667 0.035789473684210524\n"
     ]
    },
    {
     "name": "stderr",
     "output_type": "stream",
     "text": [
      "/Users/minhnhatle/Documents/block-hmm-simulations/src/utils.py:334: RuntimeWarning: overflow encountered in exp\n",
      "  return gamma + (1 - gamma - lamb) * 1 / (1 + np.exp(-p[0] * (x + p[1])))\n"
     ]
    },
    {
     "name": "stdout",
     "output_type": "stream",
     "text": [
      "1.2841666666666667 0.06157894736842105\n",
      "1.2841666666666667 0.08736842105263157\n",
      "1.2841666666666667 0.1131578947368421\n",
      "1.2841666666666667 0.13894736842105262\n",
      "1.2841666666666667 0.16473684210526315\n",
      "1.2841666666666667 0.19052631578947368\n",
      "1.2841666666666667 0.2163157894736842\n",
      "1.2841666666666667 0.24210526315789474\n",
      "1.2841666666666667 0.26789473684210524\n",
      "1.2841666666666667 0.29368421052631577\n",
      "1.2841666666666667 0.3194736842105263\n",
      "1.2841666666666667 0.3452631578947368\n",
      "1.2841666666666667 0.37105263157894736\n",
      "1.2841666666666667 0.3968421052631579\n",
      "1.2841666666666667 0.4226315789473684\n",
      "1.2841666666666667 0.44842105263157894\n",
      "1.2841666666666667 0.47421052631578947\n",
      "1.2841666666666667 0.5\n",
      "1.3420833333333333 0.01\n"
     ]
    },
    {
     "name": "stderr",
     "output_type": "stream",
     "text": [
      "/Users/minhnhatle/Documents/block-hmm-simulations/src/utils.py:334: RuntimeWarning: overflow encountered in exp\n",
      "  return gamma + (1 - gamma - lamb) * 1 / (1 + np.exp(-p[0] * (x + p[1])))\n",
      "/Users/minhnhatle/Documents/block-hmm-simulations/src/utils.py:334: RuntimeWarning: overflow encountered in exp\n",
      "  return gamma + (1 - gamma - lamb) * 1 / (1 + np.exp(-p[0] * (x + p[1])))\n"
     ]
    },
    {
     "name": "stdout",
     "output_type": "stream",
     "text": [
      "1.3420833333333333 0.035789473684210524\n"
     ]
    },
    {
     "name": "stderr",
     "output_type": "stream",
     "text": [
      "/Users/minhnhatle/Documents/block-hmm-simulations/src/utils.py:334: RuntimeWarning: overflow encountered in exp\n",
      "  return gamma + (1 - gamma - lamb) * 1 / (1 + np.exp(-p[0] * (x + p[1])))\n"
     ]
    },
    {
     "name": "stdout",
     "output_type": "stream",
     "text": [
      "1.3420833333333333 0.06157894736842105\n",
      "1.3420833333333333 0.08736842105263157\n",
      "1.3420833333333333 0.1131578947368421\n",
      "1.3420833333333333 0.13894736842105262\n",
      "1.3420833333333333 0.16473684210526315\n",
      "1.3420833333333333 0.19052631578947368\n",
      "1.3420833333333333 0.2163157894736842\n",
      "1.3420833333333333 0.24210526315789474\n",
      "1.3420833333333333 0.26789473684210524\n",
      "1.3420833333333333 0.29368421052631577\n",
      "1.3420833333333333 0.3194736842105263\n",
      "1.3420833333333333 0.3452631578947368\n",
      "1.3420833333333333 0.37105263157894736\n",
      "1.3420833333333333 0.3968421052631579\n",
      "1.3420833333333333 0.4226315789473684\n",
      "1.3420833333333333 0.44842105263157894\n",
      "1.3420833333333333 0.47421052631578947\n",
      "1.3420833333333333 0.5\n",
      "1.4 0.01\n"
     ]
    },
    {
     "name": "stderr",
     "output_type": "stream",
     "text": [
      "/Users/minhnhatle/Documents/block-hmm-simulations/src/utils.py:334: RuntimeWarning: overflow encountered in exp\n",
      "  return gamma + (1 - gamma - lamb) * 1 / (1 + np.exp(-p[0] * (x + p[1])))\n"
     ]
    },
    {
     "name": "stdout",
     "output_type": "stream",
     "text": [
      "1.4 0.035789473684210524\n",
      "1.4 0.06157894736842105\n",
      "1.4 0.08736842105263157\n",
      "1.4 0.1131578947368421\n",
      "1.4 0.13894736842105262\n",
      "1.4 0.16473684210526315\n",
      "1.4 0.19052631578947368\n",
      "1.4 0.2163157894736842\n",
      "1.4 0.24210526315789474\n",
      "1.4 0.26789473684210524\n",
      "1.4 0.29368421052631577\n",
      "1.4 0.3194736842105263\n",
      "1.4 0.3452631578947368\n",
      "1.4 0.37105263157894736\n",
      "1.4 0.3968421052631579\n",
      "1.4 0.4226315789473684\n",
      "1.4 0.44842105263157894\n",
      "1.4 0.47421052631578947\n",
      "1.4 0.5\n"
     ]
    }
   ],
   "source": [
    "# Get metrics for all points in the Qspace\n",
    "Ngamma = 25\n",
    "Neps = 20\n",
    "rlow = 0\n",
    "gammalst = np.linspace(0.01, 1.4, Ngamma)\n",
    "epslst = np.linspace(0.01, 0.5, Neps)\n",
    "Niters = 50\n",
    "\n",
    "Qeff_arr = np.zeros((Ngamma, Neps, Niters)) * np.nan\n",
    "Qlapse_arr = np.zeros((Ngamma, Neps, Niters)) * np.nan\n",
    "Qoffset_arr = np.zeros((Ngamma, Neps, Niters)) * np.nan\n",
    "Qslope_arr = np.zeros((Ngamma, Neps, Niters)) * np.nan\n",
    "\n",
    "\n",
    "for idgamma, gamma in enumerate(gammalst):\n",
    "    for ideps, eps in enumerate(epslst):\n",
    "        print(gamma, eps)\n",
    "        metrics = get_Qmetrics(gamma, eps, N_iters=Niters, rlow=rlow)\n",
    "        Qeff_arr[idgamma, ideps, :] = metrics[0]\n",
    "        Qlapse_arr[idgamma, ideps, :] = metrics[1]\n",
    "        Qoffset_arr[idgamma, ideps, :] = metrics[2]\n",
    "        Qslope_arr[idgamma, ideps, :] = metrics[3]\n",
    "        "
   ]
  },
  {
   "cell_type": "markdown",
   "metadata": {},
   "source": [
    "### Inference-based"
   ]
  },
  {
   "cell_type": "code",
   "execution_count": 3,
   "metadata": {
    "scrolled": true
   },
   "outputs": [
    {
     "name": "stdout",
     "output_type": "stream",
     "text": [
      "0.55 0.01\n",
      "0.55 0.04142857142857143\n",
      "0.55 0.07285714285714286\n",
      "0.55 0.10428571428571429\n",
      "0.55 0.13571428571428573\n",
      "0.55 0.16714285714285715\n",
      "0.55 0.1985714285714286\n",
      "0.55 0.23000000000000004\n",
      "0.55 0.26142857142857145\n",
      "0.55 0.29285714285714287\n",
      "0.55 0.3242857142857143\n",
      "0.55 0.35571428571428576\n",
      "0.55 0.3871428571428572\n",
      "0.55 0.4185714285714286\n",
      "0.55 0.45\n",
      "0.5988888888888889 0.01\n",
      "0.5988888888888889 0.04142857142857143\n",
      "0.5988888888888889 0.07285714285714286\n",
      "0.5988888888888889 0.10428571428571429\n",
      "0.5988888888888889 0.13571428571428573\n",
      "0.5988888888888889 0.16714285714285715\n",
      "0.5988888888888889 0.1985714285714286\n",
      "0.5988888888888889 0.23000000000000004\n",
      "0.5988888888888889 0.26142857142857145\n",
      "0.5988888888888889 0.29285714285714287\n",
      "0.5988888888888889 0.3242857142857143\n",
      "0.5988888888888889 0.35571428571428576\n",
      "0.5988888888888889 0.3871428571428572\n",
      "0.5988888888888889 0.4185714285714286\n",
      "0.5988888888888889 0.45\n",
      "0.6477777777777778 0.01\n",
      "0.6477777777777778 0.04142857142857143\n",
      "0.6477777777777778 0.07285714285714286\n",
      "0.6477777777777778 0.10428571428571429\n",
      "0.6477777777777778 0.13571428571428573\n",
      "0.6477777777777778 0.16714285714285715\n",
      "0.6477777777777778 0.1985714285714286\n",
      "0.6477777777777778 0.23000000000000004\n",
      "0.6477777777777778 0.26142857142857145\n",
      "0.6477777777777778 0.29285714285714287\n",
      "0.6477777777777778 0.3242857142857143\n",
      "0.6477777777777778 0.35571428571428576\n",
      "0.6477777777777778 0.3871428571428572\n",
      "0.6477777777777778 0.4185714285714286\n",
      "0.6477777777777778 0.45\n",
      "0.6966666666666668 0.01\n",
      "0.6966666666666668 0.04142857142857143\n",
      "0.6966666666666668 0.07285714285714286\n",
      "0.6966666666666668 0.10428571428571429\n",
      "0.6966666666666668 0.13571428571428573\n",
      "0.6966666666666668 0.16714285714285715\n",
      "0.6966666666666668 0.1985714285714286\n",
      "0.6966666666666668 0.23000000000000004\n",
      "0.6966666666666668 0.26142857142857145\n",
      "0.6966666666666668 0.29285714285714287\n",
      "0.6966666666666668 0.3242857142857143\n",
      "0.6966666666666668 0.35571428571428576\n",
      "0.6966666666666668 0.3871428571428572\n",
      "0.6966666666666668 0.4185714285714286\n",
      "0.6966666666666668 0.45\n",
      "0.7455555555555555 0.01\n",
      "0.7455555555555555 0.04142857142857143\n",
      "0.7455555555555555 0.07285714285714286\n",
      "0.7455555555555555 0.10428571428571429\n",
      "0.7455555555555555 0.13571428571428573\n",
      "0.7455555555555555 0.16714285714285715\n",
      "0.7455555555555555 0.1985714285714286\n",
      "0.7455555555555555 0.23000000000000004\n",
      "0.7455555555555555 0.26142857142857145\n",
      "0.7455555555555555 0.29285714285714287\n",
      "0.7455555555555555 0.3242857142857143\n",
      "0.7455555555555555 0.35571428571428576\n",
      "0.7455555555555555 0.3871428571428572\n",
      "0.7455555555555555 0.4185714285714286\n",
      "0.7455555555555555 0.45\n",
      "0.7944444444444445 0.01\n",
      "0.7944444444444445 0.04142857142857143\n",
      "0.7944444444444445 0.07285714285714286\n",
      "0.7944444444444445 0.10428571428571429\n",
      "0.7944444444444445 0.13571428571428573\n",
      "0.7944444444444445 0.16714285714285715\n",
      "0.7944444444444445 0.1985714285714286\n",
      "0.7944444444444445 0.23000000000000004\n",
      "0.7944444444444445 0.26142857142857145\n",
      "0.7944444444444445 0.29285714285714287\n",
      "0.7944444444444445 0.3242857142857143\n",
      "0.7944444444444445 0.35571428571428576\n",
      "0.7944444444444445 0.3871428571428572\n",
      "0.7944444444444445 0.4185714285714286\n",
      "0.7944444444444445 0.45\n",
      "0.8433333333333334 0.01\n",
      "0.8433333333333334 0.04142857142857143\n",
      "0.8433333333333334 0.07285714285714286\n",
      "0.8433333333333334 0.10428571428571429\n",
      "0.8433333333333334 0.13571428571428573\n",
      "0.8433333333333334 0.16714285714285715\n",
      "0.8433333333333334 0.1985714285714286\n",
      "0.8433333333333334 0.23000000000000004\n",
      "0.8433333333333334 0.26142857142857145\n",
      "0.8433333333333334 0.29285714285714287\n",
      "0.8433333333333334 0.3242857142857143\n",
      "0.8433333333333334 0.35571428571428576\n",
      "0.8433333333333334 0.3871428571428572\n",
      "0.8433333333333334 0.4185714285714286\n",
      "0.8433333333333334 0.45\n",
      "0.8922222222222222 0.01\n",
      "0.8922222222222222 0.04142857142857143\n",
      "0.8922222222222222 0.07285714285714286\n",
      "0.8922222222222222 0.10428571428571429\n",
      "0.8922222222222222 0.13571428571428573\n",
      "0.8922222222222222 0.16714285714285715\n",
      "0.8922222222222222 0.1985714285714286\n",
      "0.8922222222222222 0.23000000000000004\n",
      "0.8922222222222222 0.26142857142857145\n",
      "0.8922222222222222 0.29285714285714287\n",
      "0.8922222222222222 0.3242857142857143\n",
      "0.8922222222222222 0.35571428571428576\n",
      "0.8922222222222222 0.3871428571428572\n",
      "0.8922222222222222 0.4185714285714286\n",
      "0.8922222222222222 0.45\n",
      "0.9411111111111111 0.01\n",
      "0.9411111111111111 0.04142857142857143\n",
      "0.9411111111111111 0.07285714285714286\n",
      "0.9411111111111111 0.10428571428571429\n",
      "0.9411111111111111 0.13571428571428573\n",
      "0.9411111111111111 0.16714285714285715\n",
      "0.9411111111111111 0.1985714285714286\n",
      "0.9411111111111111 0.23000000000000004\n",
      "0.9411111111111111 0.26142857142857145\n",
      "0.9411111111111111 0.29285714285714287\n",
      "0.9411111111111111 0.3242857142857143\n",
      "0.9411111111111111 0.35571428571428576\n",
      "0.9411111111111111 0.3871428571428572\n",
      "0.9411111111111111 0.4185714285714286\n",
      "0.9411111111111111 0.45\n",
      "0.99 0.01\n",
      "0.99 0.04142857142857143\n",
      "0.99 0.07285714285714286\n",
      "0.99 0.10428571428571429\n",
      "0.99 0.13571428571428573\n",
      "0.99 0.16714285714285715\n",
      "0.99 0.1985714285714286\n",
      "0.99 0.23000000000000004\n",
      "0.99 0.26142857142857145\n",
      "0.99 0.29285714285714287\n",
      "0.99 0.3242857142857143\n",
      "0.99 0.35571428571428576\n",
      "0.99 0.3871428571428572\n",
      "0.99 0.4185714285714286\n",
      "0.99 0.45\n"
     ]
    }
   ],
   "source": [
    "# Get metrics for all points in the IB space\n",
    "Nrew = 10\n",
    "Nsw = 15\n",
    "prewlst = np.linspace(0.55, 0.99, Nrew)\n",
    "pswitchlst = np.linspace(0.01, 0.45, Nsw)\n",
    "\n",
    "IBeff_arr = np.zeros((Nsw, Nrew, 50)) * np.nan\n",
    "IBlapse_arr = np.zeros((Nsw, Nrew, 50)) * np.nan\n",
    "IBoffset_arr = np.zeros((Nsw, Nrew, 50)) * np.nan\n",
    "IBslope_arr = np.zeros((Nsw, Nrew, 50)) * np.nan\n",
    "\n",
    "\n",
    "for idr, prew in enumerate(prewlst):\n",
    "    for ids, pswitch in enumerate(pswitchlst):\n",
    "        print(prew, pswitch)\n",
    "        metrics = get_IB_metrics(pswitch, prew, rlow=rlow)\n",
    "        IBeff_arr[ids, idr, :] = metrics[0]\n",
    "        IBlapse_arr[ids, idr, :] = metrics[1]\n",
    "        IBoffset_arr[ids, idr, :] = metrics[2]\n",
    "        IBslope_arr[ids, idr, :] = metrics[3]\n",
    "        "
   ]
  },
  {
   "cell_type": "markdown",
   "metadata": {},
   "source": [
    "### Save the simulated data"
   ]
  },
  {
   "cell_type": "code",
   "execution_count": 4,
   "metadata": {},
   "outputs": [
    {
     "name": "stdout",
     "output_type": "stream",
     "text": [
      "File saved!\n"
     ]
    }
   ],
   "source": [
    "prob = rlow\n",
    "sim_obj = {'Qeff_arr': Qeff_arr, 'Qlapse_arr': Qlapse_arr, 'Qoffset_arr': Qoffset_arr, \n",
    "          'Qslope_arr': Qslope_arr, 'IBeff_arr': IBeff_arr, 'IBlapse_arr': IBlapse_arr,\n",
    "          'IBslope_arr': IBslope_arr, 'IBoffset_arr': IBoffset_arr,\n",
    "          'prewlst': prewlst, 'pswitchlst': pswitchlst, 'gammalst': gammalst,\n",
    "          'epslst': epslst, 'order': ['gamma', 'eps', 'pr', 'ps']}\n",
    "\n",
    "filename = f\"decodingresults_from_pickle_prob{prob:.2f}.mat\"\n",
    "if not os.path.exists(filename):\n",
    "    scipy.io.savemat(filename, sim_obj)\n",
    "    print('File saved!')"
   ]
  },
  {
   "cell_type": "code",
   "execution_count": null,
   "metadata": {},
   "outputs": [],
   "source": []
  }
 ],
 "metadata": {
  "kernelspec": {
   "display_name": "Default",
   "language": "python",
   "name": "default"
  },
  "language_info": {
   "codemirror_mode": {
    "name": "ipython",
    "version": 3
   },
   "file_extension": ".py",
   "mimetype": "text/x-python",
   "name": "python",
   "nbconvert_exporter": "python",
   "pygments_lexer": "ipython3",
   "version": "3.9.5"
  }
 },
 "nbformat": 4,
 "nbformat_minor": 4
}
