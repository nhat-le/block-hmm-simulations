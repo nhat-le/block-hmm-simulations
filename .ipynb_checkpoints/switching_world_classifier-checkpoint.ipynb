{
 "cells": [
  {
   "cell_type": "code",
   "execution_count": 1,
   "metadata": {},
   "outputs": [],
   "source": [
    "import numpy as np\n",
    "import matplotlib.pyplot as plt\n",
    "from src.worldModels import *\n",
    "import scipy.io\n",
    "import os.path\n",
    "import os\n",
    "from src.utils import *\n",
    "from src.run_simulations import *\n",
    "from src.decoding import *\n",
    "from src.agents import *\n",
    "import pickle\n",
    "from tqdm import tqdm\n",
    "import ipywidgets as widgets\n",
    "from ipywidgets import interact\n",
    "from IPython.display import display\n",
    "from sklearn.linear_model import LinearRegression\n",
    "from src.expfitting import *\n",
    "\n",
    "import warnings\n",
    "warnings.filterwarnings(\"ignore\", category=RuntimeWarning, module='utils')\n",
    "\n",
    "\n",
    "%matplotlib notebook\n",
    "%reload_ext autoreload\n",
    "%autoreload 2"
   ]
  },
  {
   "cell_type": "markdown",
   "metadata": {},
   "source": [
    "## Repeated simulations of Q-learning and inference-based behavior "
   ]
  },
  {
   "cell_type": "markdown",
   "metadata": {},
   "source": [
    "### Q-learning"
   ]
  },
  {
   "cell_type": "code",
   "execution_count": null,
   "metadata": {
    "scrolled": true
   },
   "outputs": [
    {
     "name": "stdout",
     "output_type": "stream",
     "text": [
      "0.01 0.01\n",
      "0.01 0.035789473684210524\n"
     ]
    },
    {
     "name": "stderr",
     "output_type": "stream",
     "text": [
      "/Users/minhnhatle/Documents/block-hmm-simulations/src/utils.py:334: RuntimeWarning: overflow encountered in exp\n",
      "  return gamma + (1 - gamma - lamb) * 1 / (1 + np.exp(-p[0] * (x + p[1])))\n"
     ]
    },
    {
     "name": "stdout",
     "output_type": "stream",
     "text": [
      "0.01 0.06157894736842105\n",
      "0.01 0.08736842105263157\n",
      "0.01 0.1131578947368421\n",
      "0.01 0.13894736842105262\n"
     ]
    },
    {
     "name": "stderr",
     "output_type": "stream",
     "text": [
      "/Users/minhnhatle/Documents/block-hmm-simulations/src/utils.py:334: RuntimeWarning: overflow encountered in exp\n",
      "  return gamma + (1 - gamma - lamb) * 1 / (1 + np.exp(-p[0] * (x + p[1])))\n"
     ]
    },
    {
     "name": "stdout",
     "output_type": "stream",
     "text": [
      "0.01 0.16473684210526315\n"
     ]
    },
    {
     "name": "stderr",
     "output_type": "stream",
     "text": [
      "/Users/minhnhatle/Documents/block-hmm-simulations/src/utils.py:334: RuntimeWarning: overflow encountered in exp\n",
      "  return gamma + (1 - gamma - lamb) * 1 / (1 + np.exp(-p[0] * (x + p[1])))\n"
     ]
    },
    {
     "name": "stdout",
     "output_type": "stream",
     "text": [
      "0.01 0.19052631578947368\n"
     ]
    },
    {
     "name": "stderr",
     "output_type": "stream",
     "text": [
      "/Users/minhnhatle/Documents/block-hmm-simulations/src/utils.py:334: RuntimeWarning: overflow encountered in exp\n",
      "  return gamma + (1 - gamma - lamb) * 1 / (1 + np.exp(-p[0] * (x + p[1])))\n"
     ]
    },
    {
     "name": "stdout",
     "output_type": "stream",
     "text": [
      "0.01 0.2163157894736842\n",
      "0.01 0.24210526315789474\n"
     ]
    },
    {
     "name": "stderr",
     "output_type": "stream",
     "text": [
      "/Users/minhnhatle/Documents/block-hmm-simulations/src/utils.py:334: RuntimeWarning: overflow encountered in exp\n",
      "  return gamma + (1 - gamma - lamb) * 1 / (1 + np.exp(-p[0] * (x + p[1])))\n"
     ]
    },
    {
     "name": "stdout",
     "output_type": "stream",
     "text": [
      "0.01 0.26789473684210524\n"
     ]
    },
    {
     "name": "stderr",
     "output_type": "stream",
     "text": [
      "/Users/minhnhatle/Documents/block-hmm-simulations/src/utils.py:334: RuntimeWarning: overflow encountered in exp\n",
      "  return gamma + (1 - gamma - lamb) * 1 / (1 + np.exp(-p[0] * (x + p[1])))\n"
     ]
    },
    {
     "name": "stdout",
     "output_type": "stream",
     "text": [
      "0.01 0.29368421052631577\n",
      "0.01 0.3194736842105263\n"
     ]
    },
    {
     "name": "stderr",
     "output_type": "stream",
     "text": [
      "/Users/minhnhatle/Documents/block-hmm-simulations/src/utils.py:334: RuntimeWarning: overflow encountered in exp\n",
      "  return gamma + (1 - gamma - lamb) * 1 / (1 + np.exp(-p[0] * (x + p[1])))\n"
     ]
    },
    {
     "name": "stdout",
     "output_type": "stream",
     "text": [
      "0.01 0.3452631578947368\n"
     ]
    }
   ],
   "source": [
    "# Get metrics for all points in the Qspace\n",
    "Ngamma = 25\n",
    "Neps = 20\n",
    "rlow = 0\n",
    "gammalst = np.linspace(0.01, 1.4, Ngamma)\n",
    "epslst = np.linspace(0.01, 0.5, Neps)\n",
    "Niters = 50\n",
    "\n",
    "Qeff_arr = np.zeros((Ngamma, Neps, Niters)) * np.nan\n",
    "Qlapse_arr = np.zeros((Ngamma, Neps, Niters)) * np.nan\n",
    "Qoffset_arr = np.zeros((Ngamma, Neps, Niters)) * np.nan\n",
    "Qslope_arr = np.zeros((Ngamma, Neps, Niters)) * np.nan\n",
    "\n",
    "\n",
    "for idgamma, gamma in enumerate(gammalst):\n",
    "    for ideps, eps in enumerate(epslst):\n",
    "        print(gamma, eps)\n",
    "        metrics = get_Qmetrics(gamma, eps, N_iters=Niters, rlow=rlow)\n",
    "        Qeff_arr[idgamma, ideps, :] = metrics[0]\n",
    "        Qlapse_arr[idgamma, ideps, :] = metrics[1]\n",
    "        Qoffset_arr[idgamma, ideps, :] = metrics[2]\n",
    "        Qslope_arr[idgamma, ideps, :] = metrics[3]\n",
    "        "
   ]
  },
  {
   "cell_type": "markdown",
   "metadata": {},
   "source": [
    "### Inference-based"
   ]
  },
  {
   "cell_type": "code",
   "execution_count": 3,
   "metadata": {
    "scrolled": true
   },
   "outputs": [
    {
     "name": "stdout",
     "output_type": "stream",
     "text": [
      "0.55 0.01\n",
      "0.55 0.45\n",
      "0.77 0.01\n",
      "0.77 0.45\n",
      "0.99 0.01\n",
      "0.99 0.45\n"
     ]
    }
   ],
   "source": [
    "# Get metrics for all points in the IB space\n",
    "Nrew = 10\n",
    "Nsw = 15\n",
    "prewlst = np.linspace(0.55, 0.99, Nrew)\n",
    "pswitchlst = np.linspace(0.01, 0.45, Nsw)\n",
    "\n",
    "IBeff_arr = np.zeros((Nsw, Nrew, 50)) * np.nan\n",
    "IBlapse_arr = np.zeros((Nsw, Nrew, 50)) * np.nan\n",
    "IBoffset_arr = np.zeros((Nsw, Nrew, 50)) * np.nan\n",
    "IBslope_arr = np.zeros((Nsw, Nrew, 50)) * np.nan\n",
    "\n",
    "\n",
    "for idr, prew in enumerate(prewlst):\n",
    "    for ids, pswitch in enumerate(pswitchlst):\n",
    "        print(prew, pswitch)\n",
    "        metrics = get_IB_metrics(pswitch, prew, rlow=rlow)\n",
    "        IBeff_arr[ids, idr, :] = metrics[0]\n",
    "        IBlapse_arr[ids, idr, :] = metrics[1]\n",
    "        IBoffset_arr[ids, idr, :] = metrics[2]\n",
    "        IBslope_arr[ids, idr, :] = metrics[3]\n",
    "        "
   ]
  },
  {
   "cell_type": "markdown",
   "metadata": {},
   "source": [
    "### Save the simulated data"
   ]
  },
  {
   "cell_type": "code",
   "execution_count": 4,
   "metadata": {},
   "outputs": [
    {
     "name": "stdout",
     "output_type": "stream",
     "text": [
      "File saved!\n"
     ]
    }
   ],
   "source": [
    "paths = pathsetup('matchingsim')\n",
    "\n",
    "prob = rlow\n",
    "datestr = '010522'\n",
    "if not os.path.exists(f\"{paths['decodingdatapath']}/{datestr}\"):\n",
    "    os.mkdir(f\"{paths['decodingdatapath']}/{datestr}\")\n",
    "sim_obj = {'Qeff_arr': Qeff_arr, 'Qlapse_arr': Qlapse_arr, 'Qoffset_arr': Qoffset_arr, \n",
    "          'Qslope_arr': Qslope_arr, 'IBeff_arr': IBeff_arr, 'IBlapse_arr': IBlapse_arr,\n",
    "          'IBslope_arr': IBslope_arr, 'IBoffset_arr': IBoffset_arr,\n",
    "          'prewlst': prewlst, 'pswitchlst': pswitchlst, 'gammalst': gammalst,\n",
    "          'epslst': epslst, 'order': ['gamma', 'eps', 'pr', 'ps']}\n",
    "\n",
    "filename = f\"{paths['decodingdatapath']}/{datestr}/decodingresults_from_pickle_{datestr}_prob{prob:.2f}.mat\"\n",
    "if not os.path.exists(filename):\n",
    "    scipy.io.savemat(filename, sim_obj)\n",
    "    print('File saved!')"
   ]
  },
  {
   "cell_type": "code",
   "execution_count": null,
   "metadata": {},
   "outputs": [],
   "source": []
  }
 ],
 "metadata": {
  "kernelspec": {
   "display_name": "Default",
   "language": "python",
   "name": "default"
  },
  "language_info": {
   "codemirror_mode": {
    "name": "ipython",
    "version": 3
   },
   "file_extension": ".py",
   "mimetype": "text/x-python",
   "name": "python",
   "nbconvert_exporter": "python",
   "pygments_lexer": "ipython3",
   "version": "3.9.5"
  }
 },
 "nbformat": 4,
 "nbformat_minor": 4
}
